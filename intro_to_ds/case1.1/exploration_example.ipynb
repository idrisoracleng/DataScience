{
  "cells": [
    {
      "cell_type": "markdown",
      "metadata": {
        "id": "view-in-github",
        "colab_type": "text"
      },
      "source": [
        "<a href=\"https://colab.research.google.com/github/idrisoracleng/DataScience/blob/main/intro_to_ds/case1.1/exploration_example.ipynb\" target=\"_parent\"><img src=\"https://colab.research.google.com/assets/colab-badge.svg\" alt=\"Open In Colab\"/></a>"
      ]
    },
    {
      "cell_type": "markdown",
      "metadata": {
        "id": "QHrRLc2meBJi"
      },
      "source": [
        "# Data Analysis Examples\n",
        "\n",
        "[Jian Tao](https://coehpc.engr.tamu.edu/people/jian-tao/), Texas A&M University\n",
        "\n",
        "Aug 10, 2019\n",
        "\n",
        "Converted from\n",
        "\n",
        "**pandas workshop notebook**\n",
        "\n",
        "by [Luciano Strika](https://github.com/StrikingLoo/pandas_workshop)"
      ]
    },
    {
      "cell_type": "markdown",
      "metadata": {
        "id": "evH2ProgeBJn"
      },
      "source": [
        "## 1. Data exploration with panda"
      ]
    },
    {
      "cell_type": "code",
      "execution_count": null,
      "metadata": {
        "id": "sk8b2m0zeBJo"
      },
      "outputs": [],
      "source": [
        "%matplotlib inline\n",
        "import pandas as pd\n",
        "import random"
      ]
    },
    {
      "cell_type": "markdown",
      "metadata": {
        "id": "p5gfFcdLeBJp"
      },
      "source": [
        "### First, we will generate a data set randomly"
      ]
    },
    {
      "cell_type": "code",
      "execution_count": null,
      "metadata": {
        "id": "t-23wwVkeBJq"
      },
      "outputs": [],
      "source": [
        "names = [\"Albert\",\"John\",\"Richard\",\"Henry\",\"William\"]\n",
        "surnames = [\"Goodman\",\"Black\",\"White\",\"Green\",\"Joneson\"]\n",
        "gender = [\"F\", \"M\"]\n",
        "salaries = [500*random.randint(10,30) for _ in range(10)]"
      ]
    },
    {
      "cell_type": "code",
      "execution_count": null,
      "metadata": {
        "id": "-gwT94MceBJr"
      },
      "outputs": [],
      "source": [
        "def generate_random_person(names, surnames, gender, salaries):\n",
        "    return {\"name\":random.sample(names,1)[0],\n",
        "            \"surname\":random.sample(surnames,1)[0],\n",
        "            \"gender\":random.sample(gender,1)[0],\n",
        "            \"salary\":random.sample(salaries,1)[0]}\n",
        "def generate_people(k):\n",
        "    return [generate_random_person(names, surnames, gender, salaries) for _ in range(k)]"
      ]
    },
    {
      "cell_type": "code",
      "execution_count": null,
      "metadata": {
        "id": "MU2dMWFgeBJr"
      },
      "outputs": [],
      "source": [
        "generate_random_person(names, surnames, gender, salaries)"
      ]
    },
    {
      "cell_type": "code",
      "execution_count": null,
      "metadata": {
        "id": "KjUd6_zVeBJs"
      },
      "outputs": [],
      "source": [
        "df = pd.DataFrame(generate_people(50),columns=[\"name\",\"surname\", \"gender\", \"salary\"])"
      ]
    },
    {
      "cell_type": "code",
      "execution_count": null,
      "metadata": {
        "id": "_awihhu6eBJs"
      },
      "outputs": [],
      "source": [
        "df.to_csv(\"random_people.csv\", index=False)"
      ]
    },
    {
      "cell_type": "markdown",
      "metadata": {
        "id": "UAJJZ0P5eBJt"
      },
      "source": [
        "### Now we are going to use the data"
      ]
    },
    {
      "cell_type": "code",
      "execution_count": null,
      "metadata": {
        "id": "kJ77niMbeBJt"
      },
      "outputs": [],
      "source": [
        "df = pd.read_csv(\"random_people.csv\")"
      ]
    },
    {
      "cell_type": "code",
      "execution_count": null,
      "metadata": {
        "id": "Qff47PMNeBJt"
      },
      "outputs": [],
      "source": [
        "#start getting a feel of the data\n",
        "df.head(5)"
      ]
    },
    {
      "cell_type": "code",
      "execution_count": null,
      "metadata": {
        "id": "r4aPzgtqeBJu"
      },
      "outputs": [],
      "source": [
        "df['salary'].value_counts()"
      ]
    },
    {
      "cell_type": "code",
      "execution_count": null,
      "metadata": {
        "id": "zg2GskmweBJu"
      },
      "outputs": [],
      "source": [
        "df['salary'].median()"
      ]
    },
    {
      "cell_type": "code",
      "execution_count": null,
      "metadata": {
        "id": "4bNx38pneBJu"
      },
      "outputs": [],
      "source": [
        "def tax(s):\n",
        "    if s>=6000:\n",
        "        return s*.7\n",
        "    else:\n",
        "        return s*.85"
      ]
    },
    {
      "cell_type": "code",
      "execution_count": null,
      "metadata": {
        "id": "cVLQ6g1jeBJu"
      },
      "outputs": [],
      "source": [
        "df[\"salary_after_tax\"] = df[\"salary\"].apply(tax)\n",
        "df.head(5)"
      ]
    },
    {
      "cell_type": "code",
      "execution_count": null,
      "metadata": {
        "id": "YKvB0vGUeBJu"
      },
      "outputs": [],
      "source": [
        "df_high = df[df[\"salary_after_tax\"]>10000]"
      ]
    },
    {
      "cell_type": "code",
      "execution_count": null,
      "metadata": {
        "id": "aNPPUWn7eBJu"
      },
      "outputs": [],
      "source": [
        "df_high"
      ]
    },
    {
      "cell_type": "code",
      "execution_count": null,
      "metadata": {
        "id": "uWjSz6UveBJu"
      },
      "outputs": [],
      "source": [
        "df.corr(numeric_only=True)"
      ]
    },
    {
      "cell_type": "code",
      "execution_count": null,
      "metadata": {
        "id": "yd9pmn-6eBJv"
      },
      "outputs": [],
      "source": [
        "df.info()"
      ]
    },
    {
      "cell_type": "markdown",
      "metadata": {
        "id": "enFpv5OaeBJv"
      },
      "source": [
        "## 2. Wordcloud of \"The Complete Works of William Shakespeare\"\n",
        "\n",
        "Project Gutenberg’s [The Complete Works of William Shakespeare, by William\n",
        "Shakespeare](https://www.gutenberg.org/files/100/100-0.txt)\n",
        "\n",
        "This eBook is for the use of anyone anywhere in the United States and\n",
        "most other parts of the world at no cost and with almost no restrictions\n",
        "whatsoever.  You may copy it, give it away or re-use it under the terms\n",
        "of the Project Gutenberg License included with this eBook or online at\n",
        "www.gutenberg.org.  If you are not located in the United States, you’ll\n",
        "have to check the laws of the country where you are located before using\n",
        "this ebook."
      ]
    },
    {
      "cell_type": "code",
      "execution_count": null,
      "metadata": {
        "id": "WvBA9pUteBJv"
      },
      "outputs": [],
      "source": [
        "import matplotlib.pyplot as plt\n",
        "import nltk\n",
        "from wordcloud import WordCloud, STOPWORDS"
      ]
    },
    {
      "cell_type": "code",
      "execution_count": null,
      "metadata": {
        "id": "MrNSWEoaeBJv"
      },
      "outputs": [],
      "source": [
        "# this is to detect if we are running on Google Colab.\n",
        "import sys\n",
        "IN_COLAB = 'google.colab' in sys.modules"
      ]
    },
    {
      "cell_type": "code",
      "execution_count": null,
      "metadata": {
        "id": "r4hpUjHReBJv"
      },
      "outputs": [],
      "source": [
        "if IN_COLAB:\n",
        "  datafile = 'https://raw.githubusercontent.com/jtao/dswebinar/master/intro_to_ds/case1.1/Shakespeare.txt'\n",
        "  import requests\n",
        "  text = requests.get(datafile).text\n",
        "else:\n",
        "  datafile = 'Shakespeare.txt'\n",
        "  text = open(datafile,'r').read()"
      ]
    },
    {
      "cell_type": "code",
      "execution_count": null,
      "metadata": {
        "id": "9h-Iad2jeBJw"
      },
      "outputs": [],
      "source": [
        "','.join(STOPWORDS)"
      ]
    },
    {
      "cell_type": "code",
      "execution_count": null,
      "metadata": {
        "id": "jjOcbBETeBJw"
      },
      "outputs": [],
      "source": [
        "text.strip().replace(\"\\n\", \" \").replace(\"\\r\", \" \");\n",
        "print (\"There are {} characters in the collection.\".format(len(text)))"
      ]
    },
    {
      "cell_type": "code",
      "execution_count": null,
      "metadata": {
        "id": "V34lnZW9eBJw"
      },
      "outputs": [],
      "source": [
        "wordcloud = WordCloud(width=1600, height=800, stopwords=STOPWORDS, background_color='black').generate(text)\n",
        "plt.figure(figsize=(20,10))\n",
        "plt.imshow(wordcloud, interpolation='bilinear')\n",
        "plt.axis('off')\n",
        "plt.tight_layout(pad=0)\n",
        "plt.show()"
      ]
    },
    {
      "cell_type": "code",
      "execution_count": null,
      "metadata": {
        "id": "kaSmDPPzeBJw"
      },
      "outputs": [],
      "source": [
        "# Ucomment to save the word cloud to a file.\n",
        "#wordcloud.to_file(\"wordcloud.png\")"
      ]
    }
  ],
  "metadata": {
    "kernelspec": {
      "display_name": "Python 3 (ipykernel)",
      "language": "python",
      "name": "python3"
    },
    "language_info": {
      "codemirror_mode": {
        "name": "ipython",
        "version": 3
      },
      "file_extension": ".py",
      "mimetype": "text/x-python",
      "name": "python",
      "nbconvert_exporter": "python",
      "pygments_lexer": "ipython3",
      "version": "3.11.4"
    },
    "colab": {
      "provenance": [],
      "include_colab_link": true
    }
  },
  "nbformat": 4,
  "nbformat_minor": 0
}