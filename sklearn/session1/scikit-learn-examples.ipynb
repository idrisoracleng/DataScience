{
  "cells": [
    {
      "cell_type": "markdown",
      "metadata": {
        "id": "view-in-github",
        "colab_type": "text"
      },
      "source": [
        "<a href=\"https://colab.research.google.com/github/idrisoracleng/DataScience/blob/main/sklearn/session1/scikit-learn-examples.ipynb\" target=\"_parent\"><img src=\"https://colab.research.google.com/assets/colab-badge.svg\" alt=\"Open In Colab\"/></a>"
      ]
    },
    {
      "cell_type": "markdown",
      "metadata": {
        "id": "lSAPEytN2ZnG"
      },
      "source": [
        "# Machine Learning with scikit-learn\n",
        "[Jian Tao](https://coehpc.engr.tamu.edu/people/jian-tao/), Texas A&M University\n",
        "\n",
        "Oct 24, 2019"
      ]
    },
    {
      "cell_type": "code",
      "execution_count": 1,
      "metadata": {
        "id": "KPi7zbvt2ZnJ"
      },
      "outputs": [],
      "source": [
        "%matplotlib inline\n",
        "import numpy as np\n",
        "import matplotlib.pyplot as plt\n",
        "from sklearn.linear_model import LinearRegression"
      ]
    },
    {
      "cell_type": "markdown",
      "metadata": {
        "id": "iOPeI_Mz2ZnL"
      },
      "source": [
        "## Linear Regression\n",
        "Linear Regression is a statistical technique for estimating the relationships among variables and predicting a continuous-valued attribute associated with an object.\n",
        "Linear Regression fits a linear model with coefficients  to minimize the residual sum of squares between the observed targets in the dataset, and the targets predicted by the linear approximation."
      ]
    },
    {
      "cell_type": "code",
      "execution_count": 2,
      "metadata": {
        "scrolled": true,
        "colab": {
          "base_uri": "https://localhost:8080/",
          "height": 430
        },
        "id": "dzNM69b32ZnM",
        "outputId": "e4198749-35ec-46b9-87ec-631894e22bbf"
      },
      "outputs": [
        {
          "output_type": "display_data",
          "data": {
            "text/plain": [
              "<Figure size 640x480 with 1 Axes>"
            ],
            "image/png": "[encoded data removed]"
          },
          "metadata": {}
        }
      ],
      "source": [
        "# generate a data set\n",
        "n_samples = 20\n",
        "x = np.linspace(-1.5, 2.0, n_samples)[:, np.newaxis]\n",
        "y = 3 * x + 2 + 0.5*np.random.randn(n_samples, 1)\n",
        "plt.scatter(x, y);"
      ]
    },
    {
      "cell_type": "code",
      "execution_count": 4,
      "metadata": {
        "colab": {
          "base_uri": "https://localhost:8080/"
        },
        "id": "Mhm-sL6O2ZnM",
        "outputId": "e444c66e-651e-43bb-caf3-8dc14d14f374"
      },
      "outputs": [
        {
          "output_type": "execute_result",
          "data": {
            "text/plain": [
              "(20, 1)"
            ]
          },
          "metadata": {},
          "execution_count": 4
        }
      ],
      "source": [
        "x.shape"
      ]
    },
    {
      "cell_type": "code",
      "execution_count": 5,
      "metadata": {
        "colab": {
          "base_uri": "https://localhost:8080/"
        },
        "id": "5E4cPB-k2ZnN",
        "outputId": "0ac4c34f-0699-412b-a851-f245f9e3f938"
      },
      "outputs": [
        {
          "output_type": "execute_result",
          "data": {
            "text/plain": [
              "(20, 1)"
            ]
          },
          "metadata": {},
          "execution_count": 5
        }
      ],
      "source": [
        "y.shape"
      ]
    },
    {
      "cell_type": "code",
      "execution_count": 6,
      "metadata": {
        "id": "TU5DhmJI2ZnN"
      },
      "outputs": [],
      "source": [
        "model = LinearRegression()\n",
        "# Fit linear model.\n",
        "model.fit(x, y);"
      ]
    },
    {
      "cell_type": "code",
      "execution_count": 7,
      "metadata": {
        "colab": {
          "base_uri": "https://localhost:8080/"
        },
        "id": "rHevRs3b2ZnN",
        "outputId": "d6b18e61-1d6b-4bca-a232-81f52836b3b0"
      },
      "outputs": [
        {
          "output_type": "execute_result",
          "data": {
            "text/plain": [
              "array([[3.0488995]])"
            ]
          },
          "metadata": {},
          "execution_count": 7
        }
      ],
      "source": [
        "# Estimated coefficients for the linear regression problem.\n",
        "# If multiple targets are passed during the fit (y 2D),\n",
        "# this is a 2D array of shape (n_targets, n_features), while\n",
        "# if only one target is passed, this is a 1D array of length n_features.\n",
        "model.coef_"
      ]
    },
    {
      "cell_type": "code",
      "execution_count": 8,
      "metadata": {
        "colab": {
          "base_uri": "https://localhost:8080/"
        },
        "id": "1MVrznR22ZnO",
        "outputId": "4f1f8b87-9340-4478-dbde-4c2c8ee4ba9a"
      },
      "outputs": [
        {
          "output_type": "execute_result",
          "data": {
            "text/plain": [
              "array([2.22248485])"
            ]
          },
          "metadata": {},
          "execution_count": 8
        }
      ],
      "source": [
        "# Independent term in the linear model.\n",
        "model.intercept_"
      ]
    },
    {
      "cell_type": "code",
      "execution_count": 9,
      "metadata": {
        "colab": {
          "base_uri": "https://localhost:8080/"
        },
        "id": "kFf_cH0y2ZnP",
        "outputId": "a84dca78-cb80-4236-8fb5-7be2d69f7182"
      },
      "outputs": [
        {
          "output_type": "execute_result",
          "data": {
            "text/plain": [
              "0.9786015060742018"
            ]
          },
          "metadata": {},
          "execution_count": 9
        }
      ],
      "source": [
        "# Returns the coefficient of determination R^2 of the prediction.\n",
        "model.score(x, y)"
      ]
    },
    {
      "cell_type": "code",
      "execution_count": 10,
      "metadata": {
        "colab": {
          "base_uri": "https://localhost:8080/",
          "height": 430
        },
        "id": "_umuTkqU2ZnP",
        "outputId": "7eba5793-a846-4621-a20f-0e372558c9e0"
      },
      "outputs": [
        {
          "output_type": "display_data",
          "data": {
            "text/plain": [
              "<Figure size 640x480 with 1 Axes>"
            ],
            "image/png": "[encoded data removed]"
          },
          "metadata": {}
        }
      ],
      "source": [
        "# Plot the data and the model prediction\n",
        "y_fit = model.predict(x)\n",
        "plt.scatter(x, y)\n",
        "plt.plot(x, y_fit);\n",
        "plt.text(-1.5, 6, r\"Y = %f *x + %f\"%(model.coef_, model.intercept_), fontsize=15);"
      ]
    },
    {
      "cell_type": "code",
      "execution_count": 11,
      "metadata": {
        "id": "6aA0W-e42ZnQ"
      },
      "outputs": [],
      "source": [
        "# let's try polynomial fitting with the linear regression\n",
        "x = np.linspace(-1.5, 2.0, n_samples)[:, np.newaxis]\n",
        "y = 3 * x**4 + 2.5*x**2 + 4.7 * x + np.random.randn(n_samples, 1)"
      ]
    },
    {
      "cell_type": "code",
      "execution_count": 12,
      "metadata": {
        "colab": {
          "base_uri": "https://localhost:8080/",
          "height": 448
        },
        "id": "d0FVKJI02ZnQ",
        "outputId": "10de3bf2-a753-45a8-fd2e-c5d3aea5569f"
      },
      "outputs": [
        {
          "output_type": "stream",
          "name": "stdout",
          "text": [
            "[[ 6.20449273  1.19683243 -0.66998764  3.44289293]]\n"
          ]
        },
        {
          "output_type": "display_data",
          "data": {
            "text/plain": [
              "<Figure size 640x480 with 1 Axes>"
            ],
            "image/png": "[encoded data removed]"
          },
          "metadata": {}
        }
      ],
      "source": [
        "x_poly = np.hstack([x, x**2, x**3, x**4])\n",
        "model.fit(x_poly, y);\n",
        "print(model.coef_)\n",
        "y_pred = model.predict(x_poly)\n",
        "plt.scatter(x, y);\n",
        "plt.plot(x, y_pred, 'r');"
      ]
    },
    {
      "cell_type": "code",
      "execution_count": 13,
      "metadata": {
        "colab": {
          "base_uri": "https://localhost:8080/"
        },
        "id": "pB1BZISG2ZnQ",
        "outputId": "5b938cda-a079-406e-9c84-111a14c3ba8e"
      },
      "outputs": [
        {
          "output_type": "execute_result",
          "data": {
            "text/plain": [
              "(20, 4)"
            ]
          },
          "metadata": {},
          "execution_count": 13
        }
      ],
      "source": [
        "x_poly.shape"
      ]
    },
    {
      "cell_type": "code",
      "execution_count": 14,
      "metadata": {
        "colab": {
          "base_uri": "https://localhost:8080/"
        },
        "id": "cnk5pCJm2ZnQ",
        "outputId": "289dbcc6-707b-44cd-b7e8-c95471d6a884"
      },
      "outputs": [
        {
          "output_type": "stream",
          "name": "stdout",
          "text": [
            "Help on function hstack in module numpy:\n",
            "\n",
            "hstack(tup)\n",
            "    Stack arrays in sequence horizontally (column wise).\n",
            "    \n",
            "    This is equivalent to concatenation along the second axis, except for 1-D\n",
            "    arrays where it concatenates along the first axis. Rebuilds arrays divided\n",
            "    by `hsplit`.\n",
            "    \n",
            "    This function makes most sense for arrays with up to 3 dimensions. For\n",
            "    instance, for pixel-data with a height (first axis), width (second axis),\n",
            "    and r/g/b channels (third axis). The functions `concatenate`, `stack` and\n",
            "    `block` provide more general stacking and concatenation operations.\n",
            "    \n",
            "    Parameters\n",
            "    ----------\n",
            "    tup : sequence of ndarrays\n",
            "        The arrays must have the same shape along all but the second axis,\n",
            "        except 1-D arrays which can be any length.\n",
            "    \n",
            "    Returns\n",
            "    -------\n",
            "    stacked : ndarray\n",
            "        The array formed by stacking the given arrays.\n",
            "    \n",
            "    See Also\n",
            "    --------\n",
            "    concatenate : Join a sequence of arrays along an existing axis.\n",
            "    stack : Join a sequence of arrays along a new axis.\n",
            "    block : Assemble an nd-array from nested lists of blocks.\n",
            "    vstack : Stack arrays in sequence vertically (row wise).\n",
            "    dstack : Stack arrays in sequence depth wise (along third axis).\n",
            "    column_stack : Stack 1-D arrays as columns into a 2-D array.\n",
            "    hsplit : Split an array into multiple sub-arrays horizontally (column-wise).\n",
            "    \n",
            "    Examples\n",
            "    --------\n",
            "    >>> a = np.array((1,2,3))\n",
            "    >>> b = np.array((4,5,6))\n",
            "    >>> np.hstack((a,b))\n",
            "    array([1, 2, 3, 4, 5, 6])\n",
            "    >>> a = np.array([[1],[2],[3]])\n",
            "    >>> b = np.array([[4],[5],[6]])\n",
            "    >>> np.hstack((a,b))\n",
            "    array([[1, 4],\n",
            "           [2, 5],\n",
            "           [3, 6]])\n",
            "\n"
          ]
        }
      ],
      "source": [
        "help(np.hstack)"
      ]
    },
    {
      "cell_type": "markdown",
      "metadata": {
        "id": "o8G5x81w2ZnR"
      },
      "source": [
        "## Classification\n",
        "Classification is to Identify to which category an object belongs to based on a training set of data containing observations (or instances) whose category membership is known.\n",
        "\n",
        "Another way to think of classification is as a discrete form of supervised learning where one has a limited number of categories and for each of the n samples provided, one is to try to label them with the correct category or class."
      ]
    },
    {
      "cell_type": "markdown",
      "metadata": {
        "id": "19rXLnts2ZnR"
      },
      "source": [
        "#### Classificaiton - SVM\n",
        "Support-vector machines (SVMs), are supervised learning models with associated learning algorithms that analyze data used for classification and regression analysis.\n",
        "\n",
        "The primary task of an SVM algorithm is to find the vector/hyperplane that separates binary sets with the maximum margin to both classes."
      ]
    },
    {
      "cell_type": "code",
      "execution_count": null,
      "metadata": {
        "id": "3QCZCMKA2ZnR"
      },
      "outputs": [],
      "source": [
        "from sklearn.datasets.samples_generator import make_blobs\n",
        "n_samples = 500\n",
        "x, y = make_blobs(n_samples=n_samples, centers=2,\n",
        "                  random_state=0, cluster_std=0.60)\n",
        "plt.scatter(x[:, 0], x[:, 1], c=y, s=50);"
      ]
    },
    {
      "cell_type": "code",
      "execution_count": null,
      "metadata": {
        "id": "qo7oRsRK2ZnR"
      },
      "outputs": [],
      "source": [
        "from sklearn.svm import SVC\n",
        "clf = SVC(kernel='linear')\n",
        "clf.fit(x, y);\n",
        "w=clf.coef_[0]"
      ]
    },
    {
      "cell_type": "code",
      "execution_count": null,
      "metadata": {
        "id": "l5p1Fq3h2ZnR"
      },
      "outputs": [],
      "source": [
        "plt.scatter(x[:, 0], x[:, 1], c=y, s=50);\n",
        "a = -w[0] / w[1]\n",
        "b = (clf.intercept_[0]) / w[1]\n",
        "x_fit  = np.linspace(-1, 4)\n",
        "plt.plot(x_fit, a * x_fit - b)\n",
        "plt.text(-1, -1, r\"Y = %f *x + %f\"%(a, b), fontsize=15);"
      ]
    },
    {
      "cell_type": "markdown",
      "metadata": {
        "id": "TTEEoAfB2ZnR"
      },
      "source": [
        "#### Classificaiton - KNN Classifier\n",
        "The K-Nearest Neighbors (KNN) algorithm is a method used for algorithm used for classification or for regression. In both cases, the input consists of the k closest training examples in the feature space. Given a new, unknown observation, look up which points have the closest features and assign the predominant class."
      ]
    },
    {
      "cell_type": "code",
      "execution_count": null,
      "metadata": {
        "id": "bAzo3rR-2ZnS"
      },
      "outputs": [],
      "source": [
        "from sklearn import neighbors\n",
        "x, y = make_blobs(n_samples=n_samples, centers=4,\n",
        "                  random_state=0, cluster_std=0.60)\n",
        "plt.scatter(x[:, 0], x[:, 1], c=y, s=50);"
      ]
    },
    {
      "cell_type": "code",
      "execution_count": null,
      "metadata": {
        "id": "qKwIVKI72ZnS"
      },
      "outputs": [],
      "source": [
        "# create the model\n",
        "knn = neighbors.KNeighborsClassifier(n_neighbors=4, weights='uniform')\n",
        "\n",
        "# fit the model with the blobs generated above.\n",
        "knn.fit(x, y);"
      ]
    },
    {
      "cell_type": "code",
      "execution_count": null,
      "metadata": {
        "id": "dt8vlH7N2ZnS"
      },
      "outputs": [],
      "source": [
        "x_pred = [0, 2]\n",
        "r = knn.predict([x_pred,])\n",
        "plt.scatter(x[:, 0], x[:, 1], c=(y==r[0]));\n",
        "#plt.scatter(x[:, 0], x[:, 1], c=y);\n",
        "plt.scatter(x_pred[0], x_pred[1], c='red', s=50);"
      ]
    },
    {
      "cell_type": "markdown",
      "metadata": {
        "id": "n8X0xoa32ZnS"
      },
      "source": [
        "## Clustering\n",
        "Cluster analysis or clustering is the task of grouping a set of objects in such a way that objects in the same group (called a cluster) are more similar (in some sense) to each other than to those in other groups (clusters).\n",
        "\n",
        "Common clustering algorithms include K-means, Density-based spatial clustering of applications with noise (DBSCAN) and mean-shift."
      ]
    },
    {
      "cell_type": "code",
      "execution_count": null,
      "metadata": {
        "id": "XkAs7Vf52ZnT"
      },
      "outputs": [],
      "source": [
        "from sklearn.datasets.samples_generator import make_blobs"
      ]
    },
    {
      "cell_type": "code",
      "execution_count": null,
      "metadata": {
        "id": "bOnXsfqf2ZnT"
      },
      "outputs": [],
      "source": [
        "# We will use the blobs crated above for clustering examples as well.\n",
        "plt.scatter(x[:, 0], x[:, 1], c=y);"
      ]
    },
    {
      "cell_type": "markdown",
      "metadata": {
        "id": "aywcj2ui2ZnT"
      },
      "source": [
        "#### Clustering - K-Means\n",
        "The K-Means algorithm searches for a predetermined number of clusters within an unlabeled multidimensional dataset.\n",
        "The \"cluster center\" is the arithmetic mean of all the points belonging to the cluster.\n",
        "Each point is closer to its own cluster center than to other cluster centers. K-Means clustering highly depends on the K clusters that is specified at the beginning. It works best when the number of clusters is known.\n"
      ]
    },
    {
      "cell_type": "code",
      "execution_count": null,
      "metadata": {
        "id": "9sEOJWx72ZnT"
      },
      "outputs": [],
      "source": [
        "from sklearn.cluster import KMeans\n",
        "x, y = make_blobs(n_samples=n_samples, centers=4,\n",
        "                  random_state=0, cluster_std=1.5)\n",
        "y_pred = KMeans(n_clusters=4).fit(x)\n",
        "y_pred.cluster_centers_"
      ]
    },
    {
      "cell_type": "code",
      "execution_count": null,
      "metadata": {
        "id": "Z3-4r3pI2ZnU"
      },
      "outputs": [],
      "source": [
        "# original classification\n",
        "plt.scatter(x[:, 0], x[:, 1], c=y);\n",
        "#plt.scatter(y_pred.cluster_centers_[:, 0], y_pred.cluster_centers_[:, 1], c='r', s=80);"
      ]
    },
    {
      "cell_type": "code",
      "execution_count": null,
      "metadata": {
        "id": "4TVtcEBv2ZnU"
      },
      "outputs": [],
      "source": [
        "# predicted clustering\n",
        "plt.scatter(x[:, 0], x[:, 1], c=y_pred.predict(x));\n",
        "plt.scatter(y_pred.cluster_centers_[:, 0], y_pred.cluster_centers_[:, 1], c='r', s=80);"
      ]
    },
    {
      "cell_type": "markdown",
      "metadata": {
        "id": "Ig2MhSNj2ZnU"
      },
      "source": [
        "#### Cluster - PCA\n",
        "Principal component analysis (PCA) is a statistical procedure that converts a set of observations of possibly correlated variables into a set of values of linearly uncorrelated variables called principal components. PCA is mostly used as a tool in exploratory data analysis and for making predictive models.\n"
      ]
    },
    {
      "cell_type": "code",
      "execution_count": null,
      "metadata": {
        "id": "YjRUzK-h2ZnU"
      },
      "outputs": [],
      "source": [
        "from sklearn import datasets\n",
        "from sklearn.decomposition import PCA"
      ]
    },
    {
      "cell_type": "code",
      "execution_count": null,
      "metadata": {
        "id": "ph9nte4m2ZnU"
      },
      "outputs": [],
      "source": [
        "iris = datasets.load_iris()\n",
        "n_samples, n_features = iris.data.shape\n",
        "print(iris.keys())\n",
        "print((n_samples, n_features))\n",
        "print(iris.data.shape)\n",
        "print(iris.target.shape)\n",
        "print(iris.target_names)\n",
        "print(iris.feature_names)\n",
        "x, y = iris.data, iris.target"
      ]
    },
    {
      "cell_type": "code",
      "execution_count": null,
      "metadata": {
        "id": "_PxzOp2X2ZnV"
      },
      "outputs": [],
      "source": [
        "pca = PCA(n_components=2)\n",
        "x_pca = pca.fit_transform(x)"
      ]
    },
    {
      "cell_type": "code",
      "execution_count": null,
      "metadata": {
        "id": "Q9s-uKgr2ZnV"
      },
      "outputs": [],
      "source": [
        "print(\"Reduced dataset shape:\", x_pca.shape)\n",
        "plt.scatter(x_pca[:, 0], x_pca[:, 1], c=iris.target, cmap=plt.cm.get_cmap('RdYlBu', 3));\n",
        "formatter = plt.FuncFormatter(lambda i, *args: iris.target_names[int(i)])\n",
        "\n",
        "plt.colorbar(ticks=[0, 1, 2], format=formatter)\n",
        "\n",
        "print(\"Meaning of the 2 components:\")\n",
        "for component in pca.components_:\n",
        "    print(\" + \".join(\"%.3f x %s\" % (value, name)\n",
        "                     for value, name in zip(component,\n",
        "                                            iris.feature_names)))\n",
        "for length, vector in zip(pca.explained_variance_ratio_, pca.components_):\n",
        "    v = vector * 10 * np.sqrt(length)\n",
        "    plt.plot([0, v[0]], [0, v[1]], '-k', lw=3)\n",
        "plt.axis('equal');"
      ]
    },
    {
      "cell_type": "code",
      "execution_count": null,
      "metadata": {
        "id": "3IDDLw3G2ZnV"
      },
      "outputs": [],
      "source": [
        "# variance ratio of the components\n",
        "pca.explained_variance_ratio_"
      ]
    },
    {
      "cell_type": "code",
      "execution_count": null,
      "metadata": {
        "id": "EFc_uOfR2ZnV"
      },
      "outputs": [],
      "source": [
        "x.shape"
      ]
    },
    {
      "cell_type": "code",
      "execution_count": null,
      "metadata": {
        "id": "tEBPCtTS2ZnV"
      },
      "outputs": [],
      "source": [
        "x_pca.shape"
      ]
    }
  ],
  "metadata": {
    "kernelspec": {
      "display_name": "Python 3",
      "language": "python",
      "name": "python3"
    },
    "language_info": {
      "codemirror_mode": {
        "name": "ipython",
        "version": 3
      },
      "file_extension": ".py",
      "mimetype": "text/x-python",
      "name": "python",
      "nbconvert_exporter": "python",
      "pygments_lexer": "ipython3",
      "version": "3.6.8"
    },
    "colab": {
      "provenance": [],
      "include_colab_link": true
    }
  },
  "nbformat": 4,
  "nbformat_minor": 0
}